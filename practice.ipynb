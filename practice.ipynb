{
 "cells": [
  {
   "cell_type": "code",
   "execution_count": 10,
   "id": "dd44ddcc-f45f-4840-a241-be5d168f68e3",
   "metadata": {},
   "outputs": [],
   "source": [
    "import numpy as np\n",
    "a1=np.array([1,2,3,4,5,6])"
   ]
  },
  {
   "cell_type": "code",
   "execution_count": 11,
   "id": "1afe0bf0-6652-41dc-9d73-a97add56cf0a",
   "metadata": {},
   "outputs": [
    {
     "data": {
      "text/plain": [
       "array([1, 2, 3, 4, 5, 6])"
      ]
     },
     "execution_count": 11,
     "metadata": {},
     "output_type": "execute_result"
    }
   ],
   "source": [
    "a1"
   ]
  },
  {
   "cell_type": "code",
   "execution_count": 12,
   "id": "af6d71c9-3bd9-4edb-bc32-885d2bd503bc",
   "metadata": {},
   "outputs": [
    {
     "data": {
      "text/plain": [
       "(6,)"
      ]
     },
     "execution_count": 12,
     "metadata": {},
     "output_type": "execute_result"
    }
   ],
   "source": [
    "a1.shape"
   ]
  },
  {
   "cell_type": "code",
   "execution_count": 13,
   "id": "4c82b052-c888-4334-b9c5-f782f905ff3d",
   "metadata": {},
   "outputs": [
    {
     "data": {
      "text/plain": [
       "1"
      ]
     },
     "execution_count": 13,
     "metadata": {},
     "output_type": "execute_result"
    }
   ],
   "source": [
    "a1.ndim"
   ]
  },
  {
   "cell_type": "code",
   "execution_count": 14,
   "id": "fbf1919a-b3a2-4196-ab48-22c64c9d05ac",
   "metadata": {},
   "outputs": [
    {
     "data": {
      "text/plain": [
       "dtype('int32')"
      ]
     },
     "execution_count": 14,
     "metadata": {},
     "output_type": "execute_result"
    }
   ],
   "source": [
    "a1.dtype"
   ]
  },
  {
   "cell_type": "code",
   "execution_count": 15,
   "id": "0cbdb9ae-1c0a-49c1-98eb-9cdb4a86bfd1",
   "metadata": {},
   "outputs": [
    {
     "data": {
      "text/plain": [
       "6"
      ]
     },
     "execution_count": 15,
     "metadata": {},
     "output_type": "execute_result"
    }
   ],
   "source": [
    "a1.size"
   ]
  },
  {
   "cell_type": "code",
   "execution_count": 16,
   "id": "b986e8a8-aa81-43d7-a794-12eaac3b78a2",
   "metadata": {},
   "outputs": [
    {
     "data": {
      "text/plain": [
       "numpy.ndarray"
      ]
     },
     "execution_count": 16,
     "metadata": {},
     "output_type": "execute_result"
    }
   ],
   "source": [
    "type(a1)"
   ]
  },
  {
   "cell_type": "code",
   "execution_count": 17,
   "id": "d77e6c43-7ffb-4f14-a996-24e8e8ceac62",
   "metadata": {},
   "outputs": [],
   "source": [
    "import pandas as pd\n"
   ]
  },
  {
   "cell_type": "code",
   "execution_count": 18,
   "id": "078fe932-4238-46cb-b5f6-8a12a206d8d1",
   "metadata": {},
   "outputs": [
    {
     "data": {
      "text/html": [
       "<div>\n",
       "<style scoped>\n",
       "    .dataframe tbody tr th:only-of-type {\n",
       "        vertical-align: middle;\n",
       "    }\n",
       "\n",
       "    .dataframe tbody tr th {\n",
       "        vertical-align: top;\n",
       "    }\n",
       "\n",
       "    .dataframe thead th {\n",
       "        text-align: right;\n",
       "    }\n",
       "</style>\n",
       "<table border=\"1\" class=\"dataframe\">\n",
       "  <thead>\n",
       "    <tr style=\"text-align: right;\">\n",
       "      <th></th>\n",
       "      <th>0</th>\n",
       "    </tr>\n",
       "  </thead>\n",
       "  <tbody>\n",
       "    <tr>\n",
       "      <th>0</th>\n",
       "      <td>1</td>\n",
       "    </tr>\n",
       "    <tr>\n",
       "      <th>1</th>\n",
       "      <td>2</td>\n",
       "    </tr>\n",
       "    <tr>\n",
       "      <th>2</th>\n",
       "      <td>3</td>\n",
       "    </tr>\n",
       "    <tr>\n",
       "      <th>3</th>\n",
       "      <td>4</td>\n",
       "    </tr>\n",
       "    <tr>\n",
       "      <th>4</th>\n",
       "      <td>5</td>\n",
       "    </tr>\n",
       "    <tr>\n",
       "      <th>5</th>\n",
       "      <td>6</td>\n",
       "    </tr>\n",
       "  </tbody>\n",
       "</table>\n",
       "</div>"
      ],
      "text/plain": [
       "   0\n",
       "0  1\n",
       "1  2\n",
       "2  3\n",
       "3  4\n",
       "4  5\n",
       "5  6"
      ]
     },
     "execution_count": 18,
     "metadata": {},
     "output_type": "execute_result"
    }
   ],
   "source": [
    "df = pd.DataFrame(a1)\n",
    "df"
   ]
  },
  {
   "cell_type": "markdown",
   "id": "b2074ad7-e2d8-4af0-98ff-6f17627fa563",
   "metadata": {},
   "source": [
    "creat numpy array"
   ]
  },
  {
   "cell_type": "code",
   "execution_count": 19,
   "id": "82c803a9-2ac2-4632-8abc-0c2a4c8abbe8",
   "metadata": {},
   "outputs": [
    {
     "data": {
      "text/plain": [
       "array([1, 2, 3, 4])"
      ]
     },
     "execution_count": 19,
     "metadata": {},
     "output_type": "execute_result"
    }
   ],
   "source": [
    "sample_array=np.array([1,2,3,4])\n",
    "sample_array"
   ]
  },
  {
   "cell_type": "code",
   "execution_count": 20,
   "id": "9efe9f22-6859-4bcf-9131-9ea99e3fe954",
   "metadata": {},
   "outputs": [
    {
     "data": {
      "text/plain": [
       "dtype('int32')"
      ]
     },
     "execution_count": 20,
     "metadata": {},
     "output_type": "execute_result"
    }
   ],
   "source": [
    "sample_array.dtype"
   ]
  },
  {
   "cell_type": "code",
   "execution_count": 21,
   "id": "c27fe082-30cc-4281-85de-dfb08dea3f0d",
   "metadata": {},
   "outputs": [],
   "source": [
    "ones=np.ones((2,3))"
   ]
  },
  {
   "cell_type": "code",
   "execution_count": 22,
   "id": "327d2503-d130-49b1-b9cd-dc73c1f051ba",
   "metadata": {},
   "outputs": [
    {
     "data": {
      "text/plain": [
       "array([[1., 1., 1.],\n",
       "       [1., 1., 1.]])"
      ]
     },
     "execution_count": 22,
     "metadata": {},
     "output_type": "execute_result"
    }
   ],
   "source": [
    "ones"
   ]
  },
  {
   "cell_type": "code",
   "execution_count": 23,
   "id": "56506171-db29-45e1-9fa8-ed649f66e7c2",
   "metadata": {},
   "outputs": [
    {
     "data": {
      "text/plain": [
       "dtype('float64')"
      ]
     },
     "execution_count": 23,
     "metadata": {},
     "output_type": "execute_result"
    }
   ],
   "source": [
    "ones.dtype"
   ]
  },
  {
   "cell_type": "code",
   "execution_count": 24,
   "id": "952e141d-257f-436f-a8a2-6663ad987909",
   "metadata": {},
   "outputs": [
    {
     "data": {
      "text/plain": [
       "numpy.ndarray"
      ]
     },
     "execution_count": 24,
     "metadata": {},
     "output_type": "execute_result"
    }
   ],
   "source": [
    "type(ones)"
   ]
  },
  {
   "cell_type": "code",
   "execution_count": 25,
   "id": "835e8769-e810-4fbb-b43d-491302019c81",
   "metadata": {},
   "outputs": [],
   "source": [
    "zeros=np.zeros((2,3))"
   ]
  },
  {
   "cell_type": "code",
   "execution_count": 26,
   "id": "851ec1d0-05d7-46ba-8cd2-0062b9fa1261",
   "metadata": {},
   "outputs": [
    {
     "data": {
      "text/plain": [
       "array([[0., 0., 0.],\n",
       "       [0., 0., 0.]])"
      ]
     },
     "execution_count": 26,
     "metadata": {},
     "output_type": "execute_result"
    }
   ],
   "source": [
    "zeros"
   ]
  },
  {
   "cell_type": "code",
   "execution_count": 27,
   "id": "4032f052-e19e-4d89-9a80-48cc23615975",
   "metadata": {},
   "outputs": [],
   "source": [
    "range_array=np.arange(0,10,2)"
   ]
  },
  {
   "cell_type": "code",
   "execution_count": 28,
   "id": "557e1639-2248-40ad-91fa-fb9fd0584b7e",
   "metadata": {},
   "outputs": [
    {
     "data": {
      "text/plain": [
       "array([0, 2, 4, 6, 8])"
      ]
     },
     "execution_count": 28,
     "metadata": {},
     "output_type": "execute_result"
    }
   ],
   "source": [
    "range_array"
   ]
  },
  {
   "cell_type": "code",
   "execution_count": 29,
   "id": "2b0af071-813a-4318-8ba0-1c647fa98174",
   "metadata": {},
   "outputs": [
    {
     "data": {
      "text/plain": [
       "array([[2, 5, 0, 3, 3],\n",
       "       [8, 4, 4, 1, 3],\n",
       "       [6, 6, 8, 5, 0]])"
      ]
     },
     "execution_count": 29,
     "metadata": {},
     "output_type": "execute_result"
    }
   ],
   "source": [
    "random_array=np.random.randint(0,10,size=(3,5))\n",
    "random_array"
   ]
  },
  {
   "cell_type": "code",
   "execution_count": 32,
   "id": "ec998f43-ef10-4c4b-8a4a-c551951dda64",
   "metadata": {},
   "outputs": [
    {
     "data": {
      "text/plain": [
       "array([[0.71509474, 0.07321633, 0.45365949],\n",
       "       [0.26044079, 0.81029772, 0.08763952],\n",
       "       [0.09869894, 0.17239733, 0.66475668],\n",
       "       [0.07344551, 0.22616799, 0.9944927 ],\n",
       "       [0.14024815, 0.07762832, 0.39890255]])"
      ]
     },
     "execution_count": 32,
     "metadata": {},
     "output_type": "execute_result"
    }
   ],
   "source": [
    "random_array_2=np.random.random((5,3))\n",
    "random_array_2"
   ]
  },
  {
   "cell_type": "code",
   "execution_count": 34,
   "id": "bc66472e-15c4-47af-a5ee-f1ad2b2c4f9c",
   "metadata": {},
   "outputs": [
    {
     "data": {
      "text/plain": [
       "(5, 3)"
      ]
     },
     "execution_count": 34,
     "metadata": {},
     "output_type": "execute_result"
    }
   ],
   "source": [
    "random_array_2.shape"
   ]
  },
  {
   "cell_type": "code",
   "execution_count": 35,
   "id": "337eb4c0-390f-46e9-8dce-456b3118c019",
   "metadata": {},
   "outputs": [
    {
     "data": {
      "text/plain": [
       "array([[0.51271704, 0.75366942, 0.29798042],\n",
       "       [0.84700485, 0.22857036, 0.50972087],\n",
       "       [0.11335901, 0.98889764, 0.83065647],\n",
       "       [0.19449686, 0.8398021 , 0.86215433],\n",
       "       [0.2545547 , 0.48318432, 0.91524975]])"
      ]
     },
     "execution_count": 35,
     "metadata": {},
     "output_type": "execute_result"
    }
   ],
   "source": [
    "random_array_3=np.random.rand(5,3)\n",
    "random_array_3"
   ]
  },
  {
   "cell_type": "code",
   "execution_count": 46,
   "id": "606a4860-78f0-4927-8152-d6fc8fe01a71",
   "metadata": {},
   "outputs": [
    {
     "data": {
      "text/plain": [
       "array([[7, 5, 1],\n",
       "       [8, 7, 8],\n",
       "       [2, 9, 7],\n",
       "       [7, 7, 9],\n",
       "       [8, 4, 2]])"
      ]
     },
     "execution_count": 46,
     "metadata": {},
     "output_type": "execute_result"
    }
   ],
   "source": [
    "#psudo random numbers\n",
    "np.random.seed(4)\n",
    "random_array_4=np.random.randint(10,size=(5,3))\n",
    "random_array_4"
   ]
  },
  {
   "cell_type": "code",
   "execution_count": 47,
   "id": "b2887228-4eb7-41da-acd9-3774ba7a7de9",
   "metadata": {},
   "outputs": [
    {
     "data": {
      "text/plain": [
       "(5, 3)"
      ]
     },
     "execution_count": 47,
     "metadata": {},
     "output_type": "execute_result"
    }
   ],
   "source": [
    "random_array_4.shape"
   ]
  },
  {
   "cell_type": "code",
   "execution_count": 48,
   "id": "26a0cfed-7be2-4d1e-9ec8-e210dcc9b4a3",
   "metadata": {},
   "outputs": [
    {
     "data": {
      "text/plain": [
       "array([1, 2, 4, 5, 7, 8, 9])"
      ]
     },
     "execution_count": 48,
     "metadata": {},
     "output_type": "execute_result"
    }
   ],
   "source": [
    "np.unique(random_array_4)"
   ]
  },
  {
   "cell_type": "code",
   "execution_count": 49,
   "id": "6a0a502f-14fd-4ac1-aba3-1320dde7bb9d",
   "metadata": {},
   "outputs": [
    {
     "data": {
      "text/plain": [
       "array([1, 2, 3, 4, 5, 6])"
      ]
     },
     "execution_count": 49,
     "metadata": {},
     "output_type": "execute_result"
    }
   ],
   "source": [
    "a1"
   ]
  },
  {
   "cell_type": "code",
   "execution_count": 50,
   "id": "cbc0c85c-aaed-4bb7-9617-e5d817f4aeac",
   "metadata": {},
   "outputs": [
    {
     "data": {
      "text/plain": [
       "1"
      ]
     },
     "execution_count": 50,
     "metadata": {},
     "output_type": "execute_result"
    }
   ],
   "source": [
    "a1[0]"
   ]
  },
  {
   "cell_type": "code",
   "execution_count": 52,
   "id": "746a94f7-f88e-4534-9851-74dcf178f6be",
   "metadata": {},
   "outputs": [
    {
     "data": {
      "text/plain": [
       "array([[[[6, 4, 3, 0, 7],\n",
       "         [5, 5, 9, 6, 6],\n",
       "         [8, 2, 5, 8, 1],\n",
       "         [2, 7, 0, 8, 3]],\n",
       "\n",
       "        [[1, 0, 3, 2, 3],\n",
       "         [2, 9, 2, 1, 0],\n",
       "         [1, 9, 9, 0, 7],\n",
       "         [2, 6, 3, 7, 8]],\n",
       "\n",
       "        [[2, 6, 7, 7, 9],\n",
       "         [2, 7, 5, 3, 0],\n",
       "         [5, 4, 3, 8, 9],\n",
       "         [5, 8, 6, 7, 0]]],\n",
       "\n",
       "\n",
       "       [[[4, 6, 8, 4, 8],\n",
       "         [1, 9, 5, 4, 2],\n",
       "         [3, 4, 7, 6, 6],\n",
       "         [8, 0, 3, 5, 6]],\n",
       "\n",
       "        [[1, 1, 6, 0, 8],\n",
       "         [7, 5, 7, 6, 8],\n",
       "         [4, 4, 0, 7, 2],\n",
       "         [1, 8, 8, 1, 3]],\n",
       "\n",
       "        [[1, 3, 6, 7, 4],\n",
       "         [0, 7, 3, 7, 9],\n",
       "         [6, 6, 9, 3, 2],\n",
       "         [7, 6, 7, 9, 4]]]])"
      ]
     },
     "execution_count": 52,
     "metadata": {},
     "output_type": "execute_result"
    }
   ],
   "source": [
    "a2=np.random.randint(10,size=(2,3,4,5))\n",
    "a2"
   ]
  },
  {
   "cell_type": "code",
   "execution_count": 53,
   "id": "3e592ef7-9e88-4052-8f81-fedf6b7e1798",
   "metadata": {},
   "outputs": [
    {
     "data": {
      "text/plain": [
       "((2, 3, 4, 5), 4)"
      ]
     },
     "execution_count": 53,
     "metadata": {},
     "output_type": "execute_result"
    }
   ],
   "source": [
    "a2.shape, a2.ndim"
   ]
  },
  {
   "cell_type": "code",
   "execution_count": 57,
   "id": "c43f0bdd-48f2-412f-bd25-4578ac8317d1",
   "metadata": {},
   "outputs": [
    {
     "data": {
      "text/plain": [
       "array([[[[6, 4, 3, 0],\n",
       "         [5, 5, 9, 6],\n",
       "         [8, 2, 5, 8],\n",
       "         [2, 7, 0, 8]],\n",
       "\n",
       "        [[1, 0, 3, 2],\n",
       "         [2, 9, 2, 1],\n",
       "         [1, 9, 9, 0],\n",
       "         [2, 6, 3, 7]],\n",
       "\n",
       "        [[2, 6, 7, 7],\n",
       "         [2, 7, 5, 3],\n",
       "         [5, 4, 3, 8],\n",
       "         [5, 8, 6, 7]]],\n",
       "\n",
       "\n",
       "       [[[4, 6, 8, 4],\n",
       "         [1, 9, 5, 4],\n",
       "         [3, 4, 7, 6],\n",
       "         [8, 0, 3, 5]],\n",
       "\n",
       "        [[1, 1, 6, 0],\n",
       "         [7, 5, 7, 6],\n",
       "         [4, 4, 0, 7],\n",
       "         [1, 8, 8, 1]],\n",
       "\n",
       "        [[1, 3, 6, 7],\n",
       "         [0, 7, 3, 7],\n",
       "         [6, 6, 9, 3],\n",
       "         [7, 6, 7, 9]]]])"
      ]
     },
     "execution_count": 57,
     "metadata": {},
     "output_type": "execute_result"
    }
   ],
   "source": [
    "#get the first 4 numbers of the inner most arrays\n",
    "a2[:,:,:,:4]"
   ]
  },
  {
   "cell_type": "markdown",
   "id": "c9ab145f-841e-4cea-abdb-870730aaeb91",
   "metadata": {},
   "source": [
    "#mulipulating and comapring arrays\n",
    "#arthimetics"
   ]
  },
  {
   "cell_type": "code",
   "execution_count": 69,
   "id": "6b33a1e6-984c-4f71-8cb0-085e053df920",
   "metadata": {},
   "outputs": [
    {
     "data": {
      "text/plain": [
       "array([1, 1, 2])"
      ]
     },
     "execution_count": 69,
     "metadata": {},
     "output_type": "execute_result"
    }
   ],
   "source": [
    "a1=np.random.randint(5,size=(3))\n",
    "a1"
   ]
  },
  {
   "cell_type": "code",
   "execution_count": 70,
   "id": "06f2d610-fab4-4cb9-98ba-1cb5f9217a42",
   "metadata": {},
   "outputs": [
    {
     "data": {
      "text/plain": [
       "array([1., 1., 1.])"
      ]
     },
     "execution_count": 70,
     "metadata": {},
     "output_type": "execute_result"
    }
   ],
   "source": [
    "ones=np.ones(3)\n",
    "ones"
   ]
  },
  {
   "cell_type": "code",
   "execution_count": 71,
   "id": "cafdf5a6-a69a-4e22-948d-dd0b706d8881",
   "metadata": {},
   "outputs": [
    {
     "data": {
      "text/plain": [
       "array([2., 2., 3.])"
      ]
     },
     "execution_count": 71,
     "metadata": {},
     "output_type": "execute_result"
    }
   ],
   "source": [
    "a1+ones"
   ]
  },
  {
   "cell_type": "code",
   "execution_count": 72,
   "id": "f4518d7b-a216-4560-8098-ff5ee856a3b9",
   "metadata": {},
   "outputs": [
    {
     "data": {
      "text/plain": [
       "array([1., 1., 2.])"
      ]
     },
     "execution_count": 72,
     "metadata": {},
     "output_type": "execute_result"
    }
   ],
   "source": [
    "a1*ones"
   ]
  },
  {
   "cell_type": "code",
   "execution_count": 73,
   "id": "10ed3ebe-81da-4e13-9eb4-6ed13c480ad2",
   "metadata": {},
   "outputs": [
    {
     "ename": "ValueError",
     "evalue": "operands could not be broadcast together with shapes (3,) (2,3,4,5) ",
     "output_type": "error",
     "traceback": [
      "\u001b[1;31m---------------------------------------------------------------------------\u001b[0m",
      "\u001b[1;31mValueError\u001b[0m                                Traceback (most recent call last)",
      "Cell \u001b[1;32mIn[73], line 1\u001b[0m\n\u001b[1;32m----> 1\u001b[0m \u001b[43ma1\u001b[49m\u001b[38;5;241;43m*\u001b[39;49m\u001b[43ma2\u001b[49m\n",
      "\u001b[1;31mValueError\u001b[0m: operands could not be broadcast together with shapes (3,) (2,3,4,5) "
     ]
    }
   ],
   "source": [
    "#how can yo reshape the np array\n",
    "a1*a2"
   ]
  },
  {
   "cell_type": "code",
   "execution_count": 74,
   "id": "a2afd295-e028-42e4-bebe-fc4e39bf57fb",
   "metadata": {},
   "outputs": [
    {
     "data": {
      "text/plain": [
       "array([1., 1., 2.])"
      ]
     },
     "execution_count": 74,
     "metadata": {},
     "output_type": "execute_result"
    }
   ],
   "source": [
    "a1/ones"
   ]
  },
  {
   "cell_type": "code",
   "execution_count": 76,
   "id": "80aa622d-6148-4186-846e-03c0799f8d0d",
   "metadata": {},
   "outputs": [
    {
     "data": {
      "text/plain": [
       "array([1., 1., 2.])"
      ]
     },
     "execution_count": 76,
     "metadata": {},
     "output_type": "execute_result"
    }
   ],
   "source": [
    "a1//ones"
   ]
  },
  {
   "cell_type": "code",
   "execution_count": 77,
   "id": "394b82c1-766a-461b-8b7b-91bc618e54ea",
   "metadata": {},
   "outputs": [
    {
     "data": {
      "text/plain": [
       "array([[[[36, 16,  9,  0, 49],\n",
       "         [25, 25, 81, 36, 36],\n",
       "         [64,  4, 25, 64,  1],\n",
       "         [ 4, 49,  0, 64,  9]],\n",
       "\n",
       "        [[ 1,  0,  9,  4,  9],\n",
       "         [ 4, 81,  4,  1,  0],\n",
       "         [ 1, 81, 81,  0, 49],\n",
       "         [ 4, 36,  9, 49, 64]],\n",
       "\n",
       "        [[ 4, 36, 49, 49, 81],\n",
       "         [ 4, 49, 25,  9,  0],\n",
       "         [25, 16,  9, 64, 81],\n",
       "         [25, 64, 36, 49,  0]]],\n",
       "\n",
       "\n",
       "       [[[16, 36, 64, 16, 64],\n",
       "         [ 1, 81, 25, 16,  4],\n",
       "         [ 9, 16, 49, 36, 36],\n",
       "         [64,  0,  9, 25, 36]],\n",
       "\n",
       "        [[ 1,  1, 36,  0, 64],\n",
       "         [49, 25, 49, 36, 64],\n",
       "         [16, 16,  0, 49,  4],\n",
       "         [ 1, 64, 64,  1,  9]],\n",
       "\n",
       "        [[ 1,  9, 36, 49, 16],\n",
       "         [ 0, 49,  9, 49, 81],\n",
       "         [36, 36, 81,  9,  4],\n",
       "         [49, 36, 49, 81, 16]]]])"
      ]
     },
     "execution_count": 77,
     "metadata": {},
     "output_type": "execute_result"
    }
   ],
   "source": [
    "a2**2"
   ]
  },
  {
   "cell_type": "code",
   "execution_count": 78,
   "id": "e9403fe7-fef6-400a-a8bc-5e9d3b3758c6",
   "metadata": {},
   "outputs": [
    {
     "data": {
      "text/plain": [
       "array([[[[36, 16,  9,  0, 49],\n",
       "         [25, 25, 81, 36, 36],\n",
       "         [64,  4, 25, 64,  1],\n",
       "         [ 4, 49,  0, 64,  9]],\n",
       "\n",
       "        [[ 1,  0,  9,  4,  9],\n",
       "         [ 4, 81,  4,  1,  0],\n",
       "         [ 1, 81, 81,  0, 49],\n",
       "         [ 4, 36,  9, 49, 64]],\n",
       "\n",
       "        [[ 4, 36, 49, 49, 81],\n",
       "         [ 4, 49, 25,  9,  0],\n",
       "         [25, 16,  9, 64, 81],\n",
       "         [25, 64, 36, 49,  0]]],\n",
       "\n",
       "\n",
       "       [[[16, 36, 64, 16, 64],\n",
       "         [ 1, 81, 25, 16,  4],\n",
       "         [ 9, 16, 49, 36, 36],\n",
       "         [64,  0,  9, 25, 36]],\n",
       "\n",
       "        [[ 1,  1, 36,  0, 64],\n",
       "         [49, 25, 49, 36, 64],\n",
       "         [16, 16,  0, 49,  4],\n",
       "         [ 1, 64, 64,  1,  9]],\n",
       "\n",
       "        [[ 1,  9, 36, 49, 16],\n",
       "         [ 0, 49,  9, 49, 81],\n",
       "         [36, 36, 81,  9,  4],\n",
       "         [49, 36, 49, 81, 16]]]])"
      ]
     },
     "execution_count": 78,
     "metadata": {},
     "output_type": "execute_result"
    }
   ],
   "source": [
    "np.square(a2)"
   ]
  },
  {
   "cell_type": "code",
   "execution_count": 79,
   "id": "5ec3be23-98a1-4ae1-bb12-2015ac8a64b8",
   "metadata": {},
   "outputs": [
    {
     "data": {
      "text/plain": [
       "array([2., 2., 3.])"
      ]
     },
     "execution_count": 79,
     "metadata": {},
     "output_type": "execute_result"
    }
   ],
   "source": [
    "np.add(a1,ones)"
   ]
  },
  {
   "cell_type": "code",
   "execution_count": 80,
   "id": "5012d48f-57f0-4e26-9c47-6f638d67dff2",
   "metadata": {},
   "outputs": [
    {
     "data": {
      "text/plain": [
       "array([1, 1, 0], dtype=int32)"
      ]
     },
     "execution_count": 80,
     "metadata": {},
     "output_type": "execute_result"
    }
   ],
   "source": [
    "a1%2"
   ]
  },
  {
   "cell_type": "code",
   "execution_count": 81,
   "id": "d1019ad2-5e4d-4d1e-8c8d-eb9520efd473",
   "metadata": {},
   "outputs": [
    {
     "data": {
      "text/plain": [
       "array([0.5, 0.5, 1. ])"
      ]
     },
     "execution_count": 81,
     "metadata": {},
     "output_type": "execute_result"
    }
   ],
   "source": [
    "a1/2"
   ]
  },
  {
   "cell_type": "code",
   "execution_count": 82,
   "id": "6b4953ec-8efd-4eeb-a55b-5c0481b6f765",
   "metadata": {},
   "outputs": [
    {
     "data": {
      "text/plain": [
       "array([[[[0, 0, 1, 0, 1],\n",
       "         [1, 1, 1, 0, 0],\n",
       "         [0, 0, 1, 0, 1],\n",
       "         [0, 1, 0, 0, 1]],\n",
       "\n",
       "        [[1, 0, 1, 0, 1],\n",
       "         [0, 1, 0, 1, 0],\n",
       "         [1, 1, 1, 0, 1],\n",
       "         [0, 0, 1, 1, 0]],\n",
       "\n",
       "        [[0, 0, 1, 1, 1],\n",
       "         [0, 1, 1, 1, 0],\n",
       "         [1, 0, 1, 0, 1],\n",
       "         [1, 0, 0, 1, 0]]],\n",
       "\n",
       "\n",
       "       [[[0, 0, 0, 0, 0],\n",
       "         [1, 1, 1, 0, 0],\n",
       "         [1, 0, 1, 0, 0],\n",
       "         [0, 0, 1, 1, 0]],\n",
       "\n",
       "        [[1, 1, 0, 0, 0],\n",
       "         [1, 1, 1, 0, 0],\n",
       "         [0, 0, 0, 1, 0],\n",
       "         [1, 0, 0, 1, 1]],\n",
       "\n",
       "        [[1, 1, 0, 1, 0],\n",
       "         [0, 1, 1, 1, 1],\n",
       "         [0, 0, 1, 1, 0],\n",
       "         [1, 0, 1, 1, 0]]]], dtype=int32)"
      ]
     },
     "execution_count": 82,
     "metadata": {},
     "output_type": "execute_result"
    }
   ],
   "source": [
    "a2%2"
   ]
  },
  {
   "cell_type": "code",
   "execution_count": 83,
   "id": "66185476-05b0-48a3-a9b3-004f44478cb2",
   "metadata": {},
   "outputs": [
    {
     "data": {
      "text/plain": [
       "array([2.71828183, 2.71828183, 7.3890561 ])"
      ]
     },
     "execution_count": 83,
     "metadata": {},
     "output_type": "execute_result"
    }
   ],
   "source": [
    "np.exp(a1)"
   ]
  },
  {
   "cell_type": "code",
   "execution_count": 84,
   "id": "11bcdfa0-625f-4b69-9ae5-2bd5228a53f8",
   "metadata": {},
   "outputs": [
    {
     "data": {
      "text/plain": [
       "array([0.        , 0.        , 0.69314718])"
      ]
     },
     "execution_count": 84,
     "metadata": {},
     "output_type": "execute_result"
    }
   ],
   "source": [
    "np.log(a1)"
   ]
  },
  {
   "cell_type": "markdown",
   "id": "a4b3b46b-07b1-4fdd-b494-d71403fb39fe",
   "metadata": {},
   "source": [
    "###aggregation\n",
    "\n",
    "performing same operation on a numbers of things"
   ]
  },
  {
   "cell_type": "code",
   "execution_count": 87,
   "id": "fb896c37-9e18-45c0-9e52-bae6819a82a0",
   "metadata": {},
   "outputs": [
    {
     "data": {
      "text/plain": [
       "list"
      ]
     },
     "execution_count": 87,
     "metadata": {},
     "output_type": "execute_result"
    }
   ],
   "source": [
    "listy_list=[1,2,3]\n",
    "type(listy_list)"
   ]
  },
  {
   "cell_type": "code",
   "execution_count": 88,
   "id": "c47e1914-a96f-4fcb-8fed-2acf281d7702",
   "metadata": {},
   "outputs": [
    {
     "data": {
      "text/plain": [
       "6"
      ]
     },
     "execution_count": 88,
     "metadata": {},
     "output_type": "execute_result"
    }
   ],
   "source": [
    "sum(listy_list)"
   ]
  },
  {
   "cell_type": "code",
   "execution_count": 90,
   "id": "ef24d201-a14a-4ceb-9345-c0803973d2cb",
   "metadata": {},
   "outputs": [
    {
     "data": {
      "text/plain": [
       "4"
      ]
     },
     "execution_count": 90,
     "metadata": {},
     "output_type": "execute_result"
    }
   ],
   "source": [
    "np.sum(a1)"
   ]
  },
  {
   "cell_type": "code",
   "execution_count": 91,
   "id": "84953262-9359-45df-9bb8-6342199912b7",
   "metadata": {},
   "outputs": [
    {
     "data": {
      "text/plain": [
       "4"
      ]
     },
     "execution_count": 91,
     "metadata": {},
     "output_type": "execute_result"
    }
   ],
   "source": [
    "sum(a1)"
   ]
  },
  {
   "cell_type": "markdown",
   "id": "308eac94-0ca8-4b3c-b5d3-c593e9cdd9fe",
   "metadata": {},
   "source": [
    "use pythons methods ('sum()') on pythopn datatypes adn use Numpy's methods on numpy arrays ('np.sum()')"
   ]
  },
  {
   "cell_type": "code",
   "execution_count": 94,
   "id": "3d4cb5b5-0dd5-464b-b0b0-5d585354b115",
   "metadata": {},
   "outputs": [
    {
     "data": {
      "text/plain": [
       "array([0.6786854 , 0.82602287, 0.34745134, ..., 0.01317782, 0.9661099 ,\n",
       "       0.57966168])"
      ]
     },
     "execution_count": 94,
     "metadata": {},
     "output_type": "execute_result"
    }
   ],
   "source": [
    "#ceate a massive numpy array\n",
    "massive_array=np.random.random(10000)\n",
    "massive_array"
   ]
  },
  {
   "cell_type": "code",
   "execution_count": 95,
   "id": "c2d86950-4e16-41a6-9aae-b047bf391fa4",
   "metadata": {},
   "outputs": [
    {
     "data": {
      "text/plain": [
       "array([0.6786854 , 0.82602287, 0.34745134, 0.05888009, 0.61182182,\n",
       "       0.12401462, 0.75952953, 0.79442332, 0.40862679, 0.94379751])"
      ]
     },
     "execution_count": 95,
     "metadata": {},
     "output_type": "execute_result"
    }
   ],
   "source": [
    "massive_array[:10]"
   ]
  },
  {
   "cell_type": "code",
   "execution_count": 96,
   "id": "1e9e3480-5fc5-488d-9e7c-a516007ad724",
   "metadata": {},
   "outputs": [
    {
     "name": "stdout",
     "output_type": "stream",
     "text": [
      "3.28 ms ± 770 µs per loop (mean ± std. dev. of 7 runs, 100 loops each)\n",
      "46.4 µs ± 12 µs per loop (mean ± std. dev. of 7 runs, 10,000 loops each)\n"
     ]
    }
   ],
   "source": [
    "%timeit sum(massive_array) #python's sum()\n",
    "%timeit np.sum(massive_array)#numoy sum()"
   ]
  },
  {
   "cell_type": "code",
   "execution_count": 97,
   "id": "0e2b5fb0-e740-4176-8a79-b4d2c3b55c32",
   "metadata": {},
   "outputs": [
    {
     "data": {
      "text/plain": [
       "array([[[[6, 4, 3, 0, 7],\n",
       "         [5, 5, 9, 6, 6],\n",
       "         [8, 2, 5, 8, 1],\n",
       "         [2, 7, 0, 8, 3]],\n",
       "\n",
       "        [[1, 0, 3, 2, 3],\n",
       "         [2, 9, 2, 1, 0],\n",
       "         [1, 9, 9, 0, 7],\n",
       "         [2, 6, 3, 7, 8]],\n",
       "\n",
       "        [[2, 6, 7, 7, 9],\n",
       "         [2, 7, 5, 3, 0],\n",
       "         [5, 4, 3, 8, 9],\n",
       "         [5, 8, 6, 7, 0]]],\n",
       "\n",
       "\n",
       "       [[[4, 6, 8, 4, 8],\n",
       "         [1, 9, 5, 4, 2],\n",
       "         [3, 4, 7, 6, 6],\n",
       "         [8, 0, 3, 5, 6]],\n",
       "\n",
       "        [[1, 1, 6, 0, 8],\n",
       "         [7, 5, 7, 6, 8],\n",
       "         [4, 4, 0, 7, 2],\n",
       "         [1, 8, 8, 1, 3]],\n",
       "\n",
       "        [[1, 3, 6, 7, 4],\n",
       "         [0, 7, 3, 7, 9],\n",
       "         [6, 6, 9, 3, 2],\n",
       "         [7, 6, 7, 9, 4]]]])"
      ]
     },
     "execution_count": 97,
     "metadata": {},
     "output_type": "execute_result"
    }
   ],
   "source": [
    "a2"
   ]
  },
  {
   "cell_type": "code",
   "execution_count": 98,
   "id": "229340c8-361f-4fbe-8a1d-09984a9a3c4b",
   "metadata": {},
   "outputs": [
    {
     "data": {
      "text/plain": [
       "4.708333333333333"
      ]
     },
     "execution_count": 98,
     "metadata": {},
     "output_type": "execute_result"
    }
   ],
   "source": [
    "np.mean(a2)"
   ]
  },
  {
   "cell_type": "code",
   "execution_count": 101,
   "id": "8d537d6c-c1a3-483d-820c-b686c60ce8b6",
   "metadata": {},
   "outputs": [
    {
     "data": {
      "text/plain": [
       "9"
      ]
     },
     "execution_count": 101,
     "metadata": {},
     "output_type": "execute_result"
    }
   ],
   "source": [
    "np.max(a2)"
   ]
  },
  {
   "cell_type": "code",
   "execution_count": 102,
   "id": "0d8e9535-0e64-4651-9231-8d08a5724596",
   "metadata": {},
   "outputs": [
    {
     "data": {
      "text/plain": [
       "0"
      ]
     },
     "execution_count": 102,
     "metadata": {},
     "output_type": "execute_result"
    }
   ],
   "source": [
    "np.min(a2)"
   ]
  },
  {
   "cell_type": "code",
   "execution_count": 103,
   "id": "14da0f49-713f-472d-ba59-1e1f25c34694",
   "metadata": {},
   "outputs": [
    {
     "data": {
      "text/plain": [
       "7.889930555555555"
      ]
     },
     "execution_count": 103,
     "metadata": {},
     "output_type": "execute_result"
    }
   ],
   "source": [
    "#variance = measure of the avgerage degree to which each number is different\n",
    "#higer variance = wider range of numbers\n",
    "#lower variance= lower range of numbers\n",
    "np.var(a2)"
   ]
  },
  {
   "cell_type": "code",
   "execution_count": 104,
   "id": "ead92887-7666-4d3c-af8b-659571b1c2ea",
   "metadata": {},
   "outputs": [
    {
     "data": {
      "text/plain": [
       "2.808902019571981"
      ]
     },
     "execution_count": 104,
     "metadata": {},
     "output_type": "execute_result"
    }
   ],
   "source": [
    "#standard deviation =  a measure of how spread of how spread out the number is from the mean\n",
    "np.std(a2)"
   ]
  },
  {
   "cell_type": "code",
   "execution_count": 105,
   "id": "ddf67c41-039f-4090-8355-37d84a8414cb",
   "metadata": {},
   "outputs": [
    {
     "data": {
      "text/plain": [
       "2.808902019571981"
      ]
     },
     "execution_count": 105,
     "metadata": {},
     "output_type": "execute_result"
    }
   ],
   "source": [
    "np.sqrt(np.var(a2))"
   ]
  },
  {
   "cell_type": "code",
   "execution_count": 106,
   "id": "2ad91735-163e-4be7-b1e1-1a5d7a743d6b",
   "metadata": {},
   "outputs": [],
   "source": [
    "#demo of std and var\n",
    "high_var_array= np.array([1,100,200,300,4000,5000])\n",
    "low_var_array= np.array([2,4,6,8,10])"
   ]
  },
  {
   "cell_type": "code",
   "execution_count": 107,
   "id": "1ff5949e-89c8-4301-939c-cea8a6e2071f",
   "metadata": {},
   "outputs": [
    {
     "data": {
      "text/plain": [
       "(4296133.472222221, 8.0)"
      ]
     },
     "execution_count": 107,
     "metadata": {},
     "output_type": "execute_result"
    }
   ],
   "source": [
    "np.var(high_var_array),np.var(low_var_array)"
   ]
  },
  {
   "cell_type": "code",
   "execution_count": 108,
   "id": "e0af661b-3c45-4e41-b481-918340ccdd34",
   "metadata": {},
   "outputs": [
    {
     "data": {
      "text/plain": [
       "(2072.711623024829, 2.8284271247461903)"
      ]
     },
     "execution_count": 108,
     "metadata": {},
     "output_type": "execute_result"
    }
   ],
   "source": [
    "np.std(high_var_array),np.std(low_var_array)"
   ]
  },
  {
   "cell_type": "code",
   "execution_count": 109,
   "id": "6320ca55-aa91-46db-82ec-c39031891b7d",
   "metadata": {},
   "outputs": [
    {
     "data": {
      "text/plain": [
       "(1600.1666666666667, 6.0)"
      ]
     },
     "execution_count": 109,
     "metadata": {},
     "output_type": "execute_result"
    }
   ],
   "source": [
    "np.mean(high_var_array),np.mean(low_var_array)"
   ]
  },
  {
   "cell_type": "code",
   "execution_count": 112,
   "id": "237525f8-33b1-4163-b5fb-b95234abcbe7",
   "metadata": {},
   "outputs": [
    {
     "data": {
      "image/png": "[encoded data removed]",
      "text/plain": [
       "<Figure size 640x480 with 1 Axes>"
      ]
     },
     "metadata": {},
     "output_type": "display_data"
    }
   ],
   "source": [
    "%matplotlib inline\n",
    "import matplotlib.pyplot as plt\n",
    "plt.hist(high_var_array)\n",
    "plt.show()"
   ]
  },
  {
   "cell_type": "code",
   "execution_count": 113,
   "id": "4a573d41-7828-44f0-b1fd-c245fe48d38c",
   "metadata": {},
   "outputs": [
    {
     "data": {
      "image/png": "[encoded data removed]",
      "text/plain": [
       "<Figure size 640x480 with 1 Axes>"
      ]
     },
     "metadata": {},
     "output_type": "display_data"
    }
   ],
   "source": [
    "plt.hist(low_var_array)\n",
    "plt.show()"
   ]
  },
  {
   "cell_type": "markdown",
   "id": "bdbf3263-d2ac-4a28-9d66-bd44b3c2af5f",
   "metadata": {},
   "source": [
    "reshaping and transposing"
   ]
  },
  {
   "cell_type": "code",
   "execution_count": 114,
   "id": "f52fc628-6700-4b21-abc7-e8d990196b1f",
   "metadata": {},
   "outputs": [
    {
     "data": {
      "text/plain": [
       "array([[[[6, 4, 3, 0, 7],\n",
       "         [5, 5, 9, 6, 6],\n",
       "         [8, 2, 5, 8, 1],\n",
       "         [2, 7, 0, 8, 3]],\n",
       "\n",
       "        [[1, 0, 3, 2, 3],\n",
       "         [2, 9, 2, 1, 0],\n",
       "         [1, 9, 9, 0, 7],\n",
       "         [2, 6, 3, 7, 8]],\n",
       "\n",
       "        [[2, 6, 7, 7, 9],\n",
       "         [2, 7, 5, 3, 0],\n",
       "         [5, 4, 3, 8, 9],\n",
       "         [5, 8, 6, 7, 0]]],\n",
       "\n",
       "\n",
       "       [[[4, 6, 8, 4, 8],\n",
       "         [1, 9, 5, 4, 2],\n",
       "         [3, 4, 7, 6, 6],\n",
       "         [8, 0, 3, 5, 6]],\n",
       "\n",
       "        [[1, 1, 6, 0, 8],\n",
       "         [7, 5, 7, 6, 8],\n",
       "         [4, 4, 0, 7, 2],\n",
       "         [1, 8, 8, 1, 3]],\n",
       "\n",
       "        [[1, 3, 6, 7, 4],\n",
       "         [0, 7, 3, 7, 9],\n",
       "         [6, 6, 9, 3, 2],\n",
       "         [7, 6, 7, 9, 4]]]])"
      ]
     },
     "execution_count": 114,
     "metadata": {},
     "output_type": "execute_result"
    }
   ],
   "source": [
    "a2"
   ]
  },
  {
   "cell_type": "code",
   "execution_count": 115,
   "id": "425fddf0-851a-4ecd-9d3f-a71fcaff1654",
   "metadata": {},
   "outputs": [
    {
     "data": {
      "text/plain": [
       "(2, 3, 4, 5)"
      ]
     },
     "execution_count": 115,
     "metadata": {},
     "output_type": "execute_result"
    }
   ],
   "source": [
    "a2.shape"
   ]
  },
  {
   "cell_type": "code",
   "execution_count": 116,
   "id": "6d06c88a-ca02-46eb-8d6e-a6834a2912ad",
   "metadata": {},
   "outputs": [
    {
     "data": {
      "text/plain": [
       "array([1, 1, 2])"
      ]
     },
     "execution_count": 116,
     "metadata": {},
     "output_type": "execute_result"
    }
   ],
   "source": [
    "a1"
   ]
  },
  {
   "cell_type": "code",
   "execution_count": 117,
   "id": "03359d62-0c6e-4490-bb9b-ad3a0b734a3d",
   "metadata": {},
   "outputs": [
    {
     "ename": "ValueError",
     "evalue": "operands could not be broadcast together with shapes (3,) (2,3,4,5) ",
     "output_type": "error",
     "traceback": [
      "\u001b[1;31m---------------------------------------------------------------------------\u001b[0m",
      "\u001b[1;31mValueError\u001b[0m                                Traceback (most recent call last)",
      "Cell \u001b[1;32mIn[117], line 1\u001b[0m\n\u001b[1;32m----> 1\u001b[0m \u001b[43ma1\u001b[49m\u001b[38;5;241;43m*\u001b[39;49m\u001b[43ma2\u001b[49m\n",
      "\u001b[1;31mValueError\u001b[0m: operands could not be broadcast together with shapes (3,) (2,3,4,5) "
     ]
    }
   ],
   "source": [
    "a1*a2"
   ]
  },
  {
   "cell_type": "code",
   "execution_count": 119,
   "id": "6250c1dc-94d1-4b68-99c7-ac753f1310f1",
   "metadata": {},
   "outputs": [
    {
     "ename": "ValueError",
     "evalue": "cannot reshape array of size 3 into shape (2,3,4,5)",
     "output_type": "error",
     "traceback": [
      "\u001b[1;31m---------------------------------------------------------------------------\u001b[0m",
      "\u001b[1;31mValueError\u001b[0m                                Traceback (most recent call last)",
      "Cell \u001b[1;32mIn[119], line 1\u001b[0m\n\u001b[1;32m----> 1\u001b[0m \u001b[43ma1\u001b[49m\u001b[38;5;241;43m.\u001b[39;49m\u001b[43mreshape\u001b[49m\u001b[43m(\u001b[49m\u001b[38;5;241;43m2\u001b[39;49m\u001b[43m,\u001b[49m\u001b[38;5;241;43m3\u001b[39;49m\u001b[43m,\u001b[49m\u001b[38;5;241;43m4\u001b[39;49m\u001b[43m,\u001b[49m\u001b[38;5;241;43m5\u001b[39;49m\u001b[43m)\u001b[49m\n",
      "\u001b[1;31mValueError\u001b[0m: cannot reshape array of size 3 into shape (2,3,4,5)"
     ]
    }
   ],
   "source": [
    "a1.reshape(2,3,4,5)"
   ]
  },
  {
   "cell_type": "code",
   "execution_count": 120,
   "id": "280a3b29-be51-42fd-922d-7a9431cd18e7",
   "metadata": {},
   "outputs": [
    {
     "data": {
      "text/plain": [
       "array([1, 1, 2])"
      ]
     },
     "execution_count": 120,
     "metadata": {},
     "output_type": "execute_result"
    }
   ],
   "source": [
    "a1.T"
   ]
  },
  {
   "cell_type": "code",
   "execution_count": 121,
   "id": "64a25d85-dd79-4cfd-9d55-edadc9af7e96",
   "metadata": {},
   "outputs": [
    {
     "data": {
      "text/plain": [
       "array([[[[6, 4],\n",
       "         [1, 1],\n",
       "         [2, 1]],\n",
       "\n",
       "        [[5, 1],\n",
       "         [2, 7],\n",
       "         [2, 0]],\n",
       "\n",
       "        [[8, 3],\n",
       "         [1, 4],\n",
       "         [5, 6]],\n",
       "\n",
       "        [[2, 8],\n",
       "         [2, 1],\n",
       "         [5, 7]]],\n",
       "\n",
       "\n",
       "       [[[4, 6],\n",
       "         [0, 1],\n",
       "         [6, 3]],\n",
       "\n",
       "        [[5, 9],\n",
       "         [9, 5],\n",
       "         [7, 7]],\n",
       "\n",
       "        [[2, 4],\n",
       "         [9, 4],\n",
       "         [4, 6]],\n",
       "\n",
       "        [[7, 0],\n",
       "         [6, 8],\n",
       "         [8, 6]]],\n",
       "\n",
       "\n",
       "       [[[3, 8],\n",
       "         [3, 6],\n",
       "         [7, 6]],\n",
       "\n",
       "        [[9, 5],\n",
       "         [2, 7],\n",
       "         [5, 3]],\n",
       "\n",
       "        [[5, 7],\n",
       "         [9, 0],\n",
       "         [3, 9]],\n",
       "\n",
       "        [[0, 3],\n",
       "         [3, 8],\n",
       "         [6, 7]]],\n",
       "\n",
       "\n",
       "       [[[0, 4],\n",
       "         [2, 0],\n",
       "         [7, 7]],\n",
       "\n",
       "        [[6, 4],\n",
       "         [1, 6],\n",
       "         [3, 7]],\n",
       "\n",
       "        [[8, 6],\n",
       "         [0, 7],\n",
       "         [8, 3]],\n",
       "\n",
       "        [[8, 5],\n",
       "         [7, 1],\n",
       "         [7, 9]]],\n",
       "\n",
       "\n",
       "       [[[7, 8],\n",
       "         [3, 8],\n",
       "         [9, 4]],\n",
       "\n",
       "        [[6, 2],\n",
       "         [0, 8],\n",
       "         [0, 9]],\n",
       "\n",
       "        [[1, 6],\n",
       "         [7, 2],\n",
       "         [9, 2]],\n",
       "\n",
       "        [[3, 6],\n",
       "         [8, 3],\n",
       "         [0, 4]]]])"
      ]
     },
     "execution_count": 121,
     "metadata": {},
     "output_type": "execute_result"
    }
   ],
   "source": [
    "a2.T"
   ]
  },
  {
   "cell_type": "markdown",
   "id": "d8fb21bb-5597-4c75-961e-fb648b696dca",
   "metadata": {},
   "source": [
    "dot product"
   ]
  },
  {
   "cell_type": "code",
   "execution_count": 123,
   "id": "bb713637-34af-4317-8cc8-3cf2defad89b",
   "metadata": {},
   "outputs": [],
   "source": [
    "np.random.seed(10)\n",
    "\n",
    "mat1=np.random.randint(10, size=(5,3))\n",
    "mat2=np.random.randint(10,size=(5,3))"
   ]
  },
  {
   "cell_type": "code",
   "execution_count": 124,
   "id": "8d325e19-f309-4aea-88eb-0c97f71e3b16",
   "metadata": {},
   "outputs": [
    {
     "data": {
      "text/plain": [
       "array([[9, 4, 0],\n",
       "       [1, 9, 0],\n",
       "       [1, 8, 9],\n",
       "       [0, 8, 6],\n",
       "       [4, 3, 0]])"
      ]
     },
     "execution_count": 124,
     "metadata": {},
     "output_type": "execute_result"
    }
   ],
   "source": [
    "mat1"
   ]
  },
  {
   "cell_type": "code",
   "execution_count": 125,
   "id": "5a3bdc67-025c-4c53-a701-61ab41213b6e",
   "metadata": {},
   "outputs": [
    {
     "data": {
      "text/plain": [
       "array([[4, 6, 8],\n",
       "       [1, 8, 4],\n",
       "       [1, 3, 6],\n",
       "       [5, 3, 9],\n",
       "       [6, 9, 1]])"
      ]
     },
     "execution_count": 125,
     "metadata": {},
     "output_type": "execute_result"
    }
   ],
   "source": [
    "mat2"
   ]
  },
  {
   "cell_type": "code",
   "execution_count": 127,
   "id": "aae97ab7-c270-4ad1-9037-92927c8fc4f1",
   "metadata": {},
   "outputs": [
    {
     "data": {
      "text/plain": [
       "((5, 3), (5, 3))"
      ]
     },
     "execution_count": 127,
     "metadata": {},
     "output_type": "execute_result"
    }
   ],
   "source": [
    "mat1.shape, mat2.shape"
   ]
  },
  {
   "cell_type": "code",
   "execution_count": 128,
   "id": "6e5f3517-7c91-4b82-b73d-632fdaec05bf",
   "metadata": {},
   "outputs": [
    {
     "data": {
      "text/plain": [
       "array([[36, 24,  0],\n",
       "       [ 1, 72,  0],\n",
       "       [ 1, 24, 54],\n",
       "       [ 0, 24, 54],\n",
       "       [24, 27,  0]])"
      ]
     },
     "execution_count": 128,
     "metadata": {},
     "output_type": "execute_result"
    }
   ],
   "source": [
    "#element-wise multiplication (hadamard product)\n",
    "\n",
    "mat1*mat2"
   ]
  },
  {
   "cell_type": "code",
   "execution_count": null,
   "id": "cd8ded26-ab02-4ca0-8f5e-0978775d8ffc",
   "metadata": {},
   "outputs": [],
   "source": []
  }
 ],
 "metadata": {
  "kernelspec": {
   "display_name": "Python 3 (ipykernel)",
   "language": "python",
   "name": "python3"
  },
  "language_info": {
   "codemirror_mode": {
    "name": "ipython",
    "version": 3
   },
   "file_extension": ".py",
   "mimetype": "text/x-python",
   "name": "python",
   "nbconvert_exporter": "python",
   "pygments_lexer": "ipython3",
   "version": "3.10.13"
  }
 },
 "nbformat": 4,
 "nbformat_minor": 5
}
